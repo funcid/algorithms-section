{
 "cells": [
  {
   "cell_type": "markdown",
   "id": "4a55c652-42c6-4560-965c-bfb157d456a1",
   "metadata": {},
   "source": [
    "# Строки"
   ]
  },
  {
   "cell_type": "markdown",
   "id": "8a9b75f4-afa8-436e-ba25-8133035da710",
   "metadata": {},
   "source": [
    "## Задача 1: Проверка на палиндром\n",
    "\n",
    "### Описание\n",
    "Напишите функцию, которая принимает строку и возвращает `True`, если строка является палиндромом, и `False` в противном случае."
   ]
  },
  {
   "cell_type": "code",
   "execution_count": 1,
   "id": "2009ca13-67ef-46a3-86f3-a370e4a61a27",
   "metadata": {},
   "outputs": [
    {
     "name": "stdout",
     "output_type": "stream",
     "text": [
      "True\n",
      "False\n"
     ]
    }
   ],
   "source": [
    "def is_palindrome(s: str) -> bool:\n",
    "    # Удаляем все пробелы и приводим строку к нижнему регистру\n",
    "    clean_s = ''.join(c for c in s if c.isalnum()).lower()\n",
    "    return clean_s == clean_s[::-1]\n",
    "\n",
    "# Тестовые случаи\n",
    "print(is_palindrome(\"A man a plan a canal Panama\"))  # True\n",
    "print(is_palindrome(\"Hello, World!\"))                # False"
   ]
  },
  {
   "cell_type": "markdown",
   "id": "0a85edf1-b304-4ce6-bfb8-b907db3b5658",
   "metadata": {},
   "source": [
    "## Задача 2: Подсчет гласных и согласных\n",
    "\n",
    "### Описание\n",
    "Напишите функцию, которая принимает строку и возвращает количество гласных и согласных в строке."
   ]
  },
  {
   "cell_type": "code",
   "execution_count": 2,
   "id": "ddfe1519-093b-4db0-a8ea-2a9c7c2e5d38",
   "metadata": {},
   "outputs": [
    {
     "name": "stdout",
     "output_type": "stream",
     "text": [
      "(3, 7)\n",
      "(1, 5)\n"
     ]
    }
   ],
   "source": [
    "def count_vowels_consonants(s: str) -> tuple:\n",
    "    vowels = 'aeiouAEIOU'\n",
    "    vowels_count = sum(1 for c in s if c in vowels)\n",
    "    consonants_count = sum(1 for c in s if c.isalpha() and c not in vowels)\n",
    "    return vowels_count, consonants_count\n",
    "\n",
    "# Тестовые случаи\n",
    "print(count_vowels_consonants(\"Hello, World!\"))  # (3, 7)\n",
    "print(count_vowels_consonants(\"Python\"))         # (1, 5)"
   ]
  },
  {
   "cell_type": "markdown",
   "id": "c1d4f7d0-12e9-4a2e-af3e-a11b46d64510",
   "metadata": {},
   "source": [
    "## Задача 3: Anagram\n",
    "\n",
    "### Описание\n",
    "Напишите функцию, которая принимает две строки и возвращает `True`, если одна строка является анаграммой другой, и `False` в противном случае."
   ]
  },
  {
   "cell_type": "code",
   "execution_count": 3,
   "id": "4db99dff-81db-4b33-86f8-17441232bc29",
   "metadata": {},
   "outputs": [
    {
     "name": "stdout",
     "output_type": "stream",
     "text": [
      "True\n",
      "True\n",
      "True\n"
     ]
    }
   ],
   "source": [
    "def is_anagram(s1: str, s2: str) -> bool:\n",
    "    return sorted(s1.replace(\" \", \"\").lower()) == sorted(s2.replace(\" \", \"\").lower())\n",
    "\n",
    "# Тестовые случаи\n",
    "print(is_anagram(\"Listen\", \"Silent\"))  # True\n",
    "print(is_anagram(\"Hello\", \"Olelh\"))    # True\n",
    "print(is_anagram(\"Apple\", \"Papel\"))    # False"
   ]
  },
  {
   "cell_type": "markdown",
   "id": "e60f4f13-41bc-4ab0-9983-8161e4240bb8",
   "metadata": {},
   "source": [
    "## Задача 4: Длина последнего слова\n",
    "\n",
    "### Описание\n",
    "Напишите функцию, которая принимает строку и возвращает длину последнего слова в этой строке."
   ]
  },
  {
   "cell_type": "code",
   "execution_count": 4,
   "id": "b9b3aaa3-549d-4b14-bd4e-31d0060401c7",
   "metadata": {},
   "outputs": [
    {
     "name": "stdout",
     "output_type": "stream",
     "text": [
      "5\n",
      "4\n",
      "0\n"
     ]
    }
   ],
   "source": [
    "def length_of_last_word(s: str) -> int:\n",
    "    words = s.strip().split()\n",
    "    return len(words[-1]) if words else 0\n",
    "\n",
    "# Тестовые случаи\n",
    "print(length_of_last_word(\"Hello World\"))   # 5\n",
    "print(length_of_last_word(\"   fly me   to   the moon  \"))  # 4\n",
    "print(length_of_last_word(\"\"))  # 0"
   ]
  },
  {
   "cell_type": "markdown",
   "id": "506d81f7-7bf5-4099-a88a-4c57d950a0e2",
   "metadata": {},
   "source": [
    "## Задача 5: Кратчайшее расстояние между словами\n",
    "\n",
    "### Описание\n",
    "Напишите функцию, которая принимает строку и два слова, и возвращает кратчайшее расстояние между ними (в количестве слов) в строке."
   ]
  },
  {
   "cell_type": "code",
   "execution_count": 5,
   "id": "e1b6bf68-3df2-421a-b8b9-79a25e4ecc1e",
   "metadata": {},
   "outputs": [
    {
     "name": "stdout",
     "output_type": "stream",
     "text": [
      "7\n",
      "2\n"
     ]
    }
   ],
   "source": [
    "def shortest_distance(s: str, word1: str, word2: str) -> int:\n",
    "    words = s.split()\n",
    "    min_distance = float('inf')\n",
    "    index1, index2 = -1, -1\n",
    "\n",
    "    for i, word in enumerate(words):\n",
    "        if word == word1:\n",
    "            index1 = i\n",
    "        elif word == word2:\n",
    "            index2 = i\n",
    "        if index1 != -1 and index2 != -1:\n",
    "            min_distance = min(min_distance, abs(index1 - index2))\n",
    "    \n",
    "    return min_distance if min_distance != float('inf') else -1\n",
    "\n",
    "# Тестовые случаи\n",
    "print(shortest_distance(\"the quick brown fox jumps over the lazy dog\", \"quick\", \"dog\"))  # 7\n",
    "print(shortest_distance(\"practice makes perfect coding makes practice perfect\", \"coding\", \"practice\"))  # 2"
   ]
  }
 ],
 "metadata": {
  "kernelspec": {
   "display_name": "Python 3 (ipykernel)",
   "language": "python",
   "name": "python3"
  },
  "language_info": {
   "codemirror_mode": {
    "name": "ipython",
    "version": 3
   },
   "file_extension": ".py",
   "mimetype": "text/x-python",
   "name": "python",
   "nbconvert_exporter": "python",
   "pygments_lexer": "ipython3",
   "version": "3.11.0"
  }
 },
 "nbformat": 4,
 "nbformat_minor": 5
}
