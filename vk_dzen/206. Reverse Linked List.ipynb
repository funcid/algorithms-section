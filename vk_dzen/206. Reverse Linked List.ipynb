{
 "cells": [
  {
   "cell_type": "markdown",
   "id": "165fbc01",
   "metadata": {},
   "source": [
    "# 206. Reverse Linked List"
   ]
  },
  {
   "cell_type": "markdown",
   "id": "974a2c4f",
   "metadata": {},
   "source": [
    "**Комментарий:** лично для меня довольно сложная задача, нужно держать в голове несколько переменных которые как-то связанны между друг другом."
   ]
  },
  {
   "cell_type": "markdown",
   "id": "3c33655d",
   "metadata": {},
   "source": [
    "Given the head of a singly linked list, reverse the list, and return the reversed list.\n",
    "\n",
    "### Example 1:\n",
    "\n",
    "Input: head = [1,2,3,4,5]\n",
    "Output: [5,4,3,2,1]\n",
    "\n",
    "### Example 2:\n",
    "\n",
    "Input: head = [1,2]\n",
    "Output: [2,1]\n",
    "\n",
    "### Example 3:\n",
    "\n",
    "Input: head = []\n",
    "Output: []"
   ]
  },
  {
   "cell_type": "markdown",
   "id": "837edfaf",
   "metadata": {},
   "source": [
    "```java\n",
    "/**\n",
    " * Definition for singly-linked list.\n",
    " * public class ListNode {\n",
    " * int val;\n",
    " * ListNode next;\n",
    " * ListNode() {}\n",
    " * ListNode(int val) { this.val = val; }\n",
    " * ListNode(int val, ListNode next) { this.val = val; this.next = next; }\n",
    " * }\n",
    " */\n",
    "class Solution {\n",
    "    public ListNode reverseList(ListNode head) {\n",
    "        ListNode curr = head;\n",
    "        ListNode prev = null;\n",
    "\n",
    "        while (curr != null) {\n",
    "            ListNode next = curr.next;\n",
    "            curr.next = prev;\n",
    "            prev = curr;\n",
    "            curr = next;\n",
    "        }\n",
    "\n",
    "        return prev;\n",
    "    }\n",
    "}\n",
    "```"
   ]
  },
  {
   "cell_type": "markdown",
   "id": "5f889313",
   "metadata": {},
   "source": [
    "1. Инициализируем две переменные: curr (текущий узел) и prev (предыдущий узел).\n",
    "2. Проходим по списку, пока curr не станет null.\n",
    "3. Сохраняем ссылку на следующий узел (next), чтобы не потерять его.\n",
    "4. Обращаем ссылку текущего узла на предыдущий узел.\n",
    "5. Передвигаем prev и curr на один узел вперед.\n",
    "6. В результате prev будет указывать на новый заголовок списка (последний элемент оригинального списка)."
   ]
  }
 ],
 "metadata": {
  "kernelspec": {
   "display_name": "Python 3 (ipykernel)",
   "language": "python",
   "name": "python3"
  },
  "language_info": {
   "codemirror_mode": {
    "name": "ipython",
    "version": 3
   },
   "file_extension": ".py",
   "mimetype": "text/x-python",
   "name": "python",
   "nbconvert_exporter": "python",
   "pygments_lexer": "ipython3",
   "version": "3.11.3"
  }
 },
 "nbformat": 4,
 "nbformat_minor": 5
}
