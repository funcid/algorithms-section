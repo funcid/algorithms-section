{
 "cells": [
  {
   "cell_type": "markdown",
   "id": "9d22a1b5",
   "metadata": {},
   "source": [
    "# 468. Validate IP Address"
   ]
  },
  {
   "cell_type": "code",
   "execution_count": null,
   "id": "3a6440b5",
   "metadata": {},
   "outputs": [],
   "source": []
  }
 ],
 "metadata": {
  "kernelspec": {
   "display_name": "Python 3 (ipykernel)",
   "language": "python",
   "name": "python3"
  },
  "language_info": {
   "codemirror_mode": {
    "name": "ipython",
    "version": 3
   },
   "file_extension": ".py",
   "mimetype": "text/x-python",
   "name": "python",
   "nbconvert_exporter": "python",
   "pygments_lexer": "ipython3",
   "version": "3.11.3"
  }
 },
 "nbformat": 4,
 "nbformat_minor": 5
}
