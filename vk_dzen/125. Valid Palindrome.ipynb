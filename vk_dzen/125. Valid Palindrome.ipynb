{
 "cells": [
  {
   "cell_type": "markdown",
   "id": "0149ed3c",
   "metadata": {},
   "source": [
    "# 125. Valid Palindrome"
   ]
  },
  {
   "cell_type": "markdown",
   "id": "f3d27ef5",
   "metadata": {},
   "source": [
    "**Комментарий:** простая задача, на два указателя, нужно помнить названия методов, которые проверяют символы на цифры и буквы."
   ]
  },
  {
   "cell_type": "markdown",
   "id": "730de640",
   "metadata": {},
   "source": [
    "A phrase is a palindrome if, after converting all uppercase letters into lowercase letters and removing all non-alphanumeric characters, it reads the same forward and backward. Alphanumeric characters include letters and numbers.\n",
    "\n",
    "Given a string s, return true if it is a palindrome, or false otherwise.\n",
    " \n",
    "### Example 1:\n",
    "\n",
    "Input: s = \"A man, a plan, a canal: Panama\"\n",
    "Output: true\n",
    "Explanation: \"amanaplanacanalpanama\" is a palindrome.\n",
    "\n",
    "### Example 2:\n",
    "\n",
    "Input: s = \"race a car\"\n",
    "Output: false\n",
    "Explanation: \"raceacar\" is not a palindrome.\n",
    "\n",
    "### Example 3:\n",
    "\n",
    "Input: s = \" \"\n",
    "Output: true\n",
    "Explanation: s is an empty string \"\" after removing non-alphanumeric characters.\n",
    "Since an empty string reads the same forward and backward, it is a palindrome."
   ]
  },
  {
   "cell_type": "markdown",
   "id": "91c533c9",
   "metadata": {},
   "source": [
    "```java\n",
    "class Solution {\n",
    "    public boolean skip(char ch) {\n",
    "        return !(Character.isLetter(ch) || Character.isDigit(ch));\n",
    "    }\n",
    "\n",
    "    public boolean isPalindrome(String s) {\n",
    "        int a = 0;\n",
    "        int b = s.length() - 1;\n",
    "\n",
    "        s = s.toLowerCase();\n",
    "        while (a < b) {\n",
    "            boolean skip = false;\n",
    "            if (skip(s.charAt(a))) {\n",
    "                a++;\n",
    "                skip = true;\n",
    "            }\n",
    "            if (skip(s.charAt(b))) {\n",
    "                b--;\n",
    "                skip = true;\n",
    "            }\n",
    "            if (skip) {\n",
    "                continue;\n",
    "            }\n",
    "            if (s.charAt(a) != s.charAt(b)) {\n",
    "                return false;\n",
    "            }\n",
    "            a++;\n",
    "            b--;\n",
    "        }\n",
    "        return true;\n",
    "    }\n",
    "}\n",
    "```"
   ]
  }
 ],
 "metadata": {
  "kernelspec": {
   "display_name": "Python 3 (ipykernel)",
   "language": "python",
   "name": "python3"
  },
  "language_info": {
   "codemirror_mode": {
    "name": "ipython",
    "version": 3
   },
   "file_extension": ".py",
   "mimetype": "text/x-python",
   "name": "python",
   "nbconvert_exporter": "python",
   "pygments_lexer": "ipython3",
   "version": "3.11.3"
  }
 },
 "nbformat": 4,
 "nbformat_minor": 5
}
