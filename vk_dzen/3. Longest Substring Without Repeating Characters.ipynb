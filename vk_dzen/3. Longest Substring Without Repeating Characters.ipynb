{
 "cells": [
  {
   "cell_type": "markdown",
   "id": "b1747794",
   "metadata": {},
   "source": [
    "# 3. Longest Substring Without Repeating Characters"
   ]
  },
  {
   "cell_type": "markdown",
   "id": "96ed262d-f26d-4cd6-b82a-0def0376619e",
   "metadata": {},
   "source": [
    "Given a string s, find the length of the longest \n",
    "substring without repeating characters."
   ]
  },
  {
   "cell_type": "markdown",
   "id": "d2679b3c-bf2e-4bbd-b43c-de2345b02134",
   "metadata": {},
   "source": [
    "Example 1:\n",
    "\n",
    "Input: s = \"abcabcbb\"\n",
    "Output: 3\n",
    "Explanation: The answer is \"abc\", with the length of 3."
   ]
  },
  {
   "cell_type": "markdown",
   "id": "4f644e12-4b1d-40a8-a0db-bed5825a3dc4",
   "metadata": {},
   "source": [
    "Example 2:\n",
    "\n",
    "Input: s = \"bbbbb\"\n",
    "Output: 1\n",
    "Explanation: The answer is \"b\", with the length of 1."
   ]
  },
  {
   "cell_type": "markdown",
   "id": "9fda454a-37ea-4989-8598-1e129a7b9c69",
   "metadata": {},
   "source": [
    "Example 3:\n",
    "\n",
    "Input: s = \"pwwkew\"\n",
    "Output: 3\n",
    "Explanation: The answer is \"wke\", with the length of 3.\n",
    "Notice that the answer must be a substring, \"pwke\" is a subsequence and not a substring."
   ]
  },
  {
   "cell_type": "markdown",
   "id": "5543068c-df20-4de1-8360-deae9727cb55",
   "metadata": {},
   "source": [
    "```java\n",
    "public class Solution {\n",
    "    public int lengthOfLongestSubstring(String s) {\n",
    "        int maxLen = 0;\n",
    "        int windowStart = 0;\n",
    "        Map<Character, Integer> chars = new HashMap<>();\n",
    "        \n",
    "        for (int windowEnd = 0; windowEnd < s.length(); windowEnd++) {\n",
    "            char curr = s.charAt(windowEnd);\n",
    "\n",
    "            if (chars.containsKey(curr)) {\n",
    "                windowStart = Math.max(windowStart, chars.get(curr) + 1);\n",
    "            }\n",
    "\n",
    "            chars.put(curr, windowEnd);\n",
    "            maxLen = Math.max(maxLen, windowEnd - windowStart + 1);\n",
    "        }\n",
    "\n",
    "        return maxLen;\n",
    "    }\n",
    "}\n",
    "```"
   ]
  }
 ],
 "metadata": {
  "kernelspec": {
   "display_name": "Python 3 (ipykernel)",
   "language": "python",
   "name": "python3"
  },
  "language_info": {
   "codemirror_mode": {
    "name": "ipython",
    "version": 3
   },
   "file_extension": ".py",
   "mimetype": "text/x-python",
   "name": "python",
   "nbconvert_exporter": "python",
   "pygments_lexer": "ipython3",
   "version": "3.11.0"
  }
 },
 "nbformat": 4,
 "nbformat_minor": 5
}
