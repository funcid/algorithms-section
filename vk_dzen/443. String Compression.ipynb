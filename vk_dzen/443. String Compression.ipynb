{
 "cells": [
  {
   "cell_type": "markdown",
   "id": "883e5b4f",
   "metadata": {},
   "source": [
    "# 443. String Compression"
   ]
  },
  {
   "cell_type": "code",
   "execution_count": null,
   "id": "d5932e45",
   "metadata": {},
   "outputs": [],
   "source": []
  }
 ],
 "metadata": {
  "kernelspec": {
   "display_name": "Python 3 (ipykernel)",
   "language": "python",
   "name": "python3"
  },
  "language_info": {
   "codemirror_mode": {
    "name": "ipython",
    "version": 3
   },
   "file_extension": ".py",
   "mimetype": "text/x-python",
   "name": "python",
   "nbconvert_exporter": "python",
   "pygments_lexer": "ipython3",
   "version": "3.11.3"
  }
 },
 "nbformat": 4,
 "nbformat_minor": 5
}
