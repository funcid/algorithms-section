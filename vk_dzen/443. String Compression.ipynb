{
 "cells": [
  {
   "cell_type": "markdown",
   "id": "883e5b4f",
   "metadata": {},
   "source": [
    "# 443. String Compression"
   ]
  },
  {
   "cell_type": "markdown",
   "id": "970eb413-b477-43d9-be9d-9272a60a7388",
   "metadata": {},
   "source": [
    "Given an array of characters chars, compress it using the following algorithm:\n",
    "\n",
    "Begin with an empty string s. For each group of consecutive repeating characters in chars:\n",
    "\n",
    "If the group's length is 1, append the character to s.\n",
    "Otherwise, append the character followed by the group's length.\n",
    "The compressed string s should not be returned separately, but instead, be stored in the input character array chars. Note that group lengths that are 10 or longer will be split into multiple characters in chars.\n",
    "\n",
    "After you are done modifying the input array, return the new length of the array.\n",
    "\n",
    "You must write an algorithm that uses only constant extra space."
   ]
  },
  {
   "cell_type": "markdown",
   "id": "f5a92621-2210-48ec-b4bf-ba9ecc264079",
   "metadata": {},
   "source": [
    "Example 1:\n",
    "\n",
    "Input: chars = [\"a\",\"a\",\"b\",\"b\",\"c\",\"c\",\"c\"]\n",
    "Output: Return 6, and the first 6 characters of the input array should be: [\"a\",\"2\",\"b\",\"2\",\"c\",\"3\"]\n",
    "Explanation: The groups are \"aa\", \"bb\", and \"ccc\". This compresses to \"a2b2c3\"."
   ]
  },
  {
   "cell_type": "markdown",
   "id": "0a8bb943-573c-4772-8c79-0f47b8a60099",
   "metadata": {},
   "source": [
    "Example 2:\n",
    "\n",
    "Input: chars = [\"a\"]\n",
    "Output: Return 1, and the first character of the input array should be: [\"a\"]\n",
    "Explanation: The only group is \"a\", which remains uncompressed since it's a single character."
   ]
  },
  {
   "cell_type": "markdown",
   "id": "7e9618c6-4898-4973-af65-52bce2100105",
   "metadata": {},
   "source": [
    "Example 3:\n",
    "\n",
    "Input: chars = [\"a\",\"b\",\"b\",\"b\",\"b\",\"b\",\"b\",\"b\",\"b\",\"b\",\"b\",\"b\",\"b\"]\n",
    "Output: Return 4, and the first 4 characters of the input array should be: [\"a\",\"b\",\"1\",\"2\"].\n",
    "Explanation: The groups are \"a\" and \"bbbbbbbbbbbb\". This compresses to \"ab12\"."
   ]
  },
  {
   "cell_type": "markdown",
   "id": "ce8fb36c-7e4c-4095-891b-98c09ba3f32c",
   "metadata": {},
   "source": [
    "```java\n",
    "class Solution {\n",
    "    public int compress(char[] chars) {\n",
    "        StringBuilder builder = new StringBuilder();\n",
    "        int start = 0;\n",
    "\n",
    "        for (int end = 0; end < chars.length; end++) {\n",
    "            if (end + 1 == chars.length || chars[end] != chars[end + 1]) {\n",
    "                builder.append(chars[start]);\n",
    "                if (end > start) {\n",
    "                    builder.append(end - start + 1);\n",
    "                }\n",
    "                start = end + 1;\n",
    "            }\n",
    "        }\n",
    "\n",
    "        char[] compressed = builder.toString().toCharArray();\n",
    "        System.arraycopy(compressed, 0, chars, 0, compressed.length);\n",
    "\n",
    "        return compressed.length;\n",
    "    }\n",
    "}\n",
    "```"
   ]
  }
 ],
 "metadata": {
  "kernelspec": {
   "display_name": "Python 3 (ipykernel)",
   "language": "python",
   "name": "python3"
  },
  "language_info": {
   "codemirror_mode": {
    "name": "ipython",
    "version": 3
   },
   "file_extension": ".py",
   "mimetype": "text/x-python",
   "name": "python",
   "nbconvert_exporter": "python",
   "pygments_lexer": "ipython3",
   "version": "3.11.0"
  }
 },
 "nbformat": 4,
 "nbformat_minor": 5
}
