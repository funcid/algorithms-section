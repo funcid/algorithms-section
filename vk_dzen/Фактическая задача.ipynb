{
 "cells": [
  {
   "cell_type": "markdown",
   "id": "7598a31d-bb64-4074-bb52-13bd105d3c43",
   "metadata": {},
   "source": [
    "Дан список интов, повторяющихся элементов в списке нет.\n",
    "Нужно преобразовать это множество в строку, сворачивая соседние по числовому ряду числа в диапазоны.\n",
    "\n",
    "Примеры:\n",
    "1. [1,4,5,2,3,9,8,11,0] => \"0-5,8-9,11\"\n",
    "2. [1,4,3,2] => \"1-4\"\n",
    "3. [1,4] => \"1,4\""
   ]
  },
  {
   "cell_type": "markdown",
   "id": "22c13d9f-2104-4a76-87a1-70915f7dd184",
   "metadata": {},
   "source": [
    "```java\n",
    "public String compress(int[] array) {\n",
    "    Arrays.sort(array);\n",
    "    List<String> seqs = new ArrayList<>();\n",
    "    int windowStartIndex = 0;\n",
    "\n",
    "    for (int windowEndIndex = 0; windowEndIndex < array.length; windowEndIndex++) {\n",
    "        if (windowEndIndex + 1 == array.length || array[windowEndIndex] + 1 != array[windowEndIndex + 1]) {\n",
    "            if (windowEndIndex - windowStartIndex >= 1) {\n",
    "                seqs.add(array[windowStartIndex] + \"-\" + array[windowEndIndex]);\n",
    "            } else {\n",
    "                seqs.add(String.valueOf(array[windowEndIndex]));\n",
    "            }\n",
    "            windowStartIndex = windowEndIndex + 1;\n",
    "        }\n",
    "    }\n",
    "    return String.join(\",\", seqs);\n",
    "}\n",
    "```"
   ]
  }
 ],
 "metadata": {
  "kernelspec": {
   "display_name": "Python 3 (ipykernel)",
   "language": "python",
   "name": "python3"
  },
  "language_info": {
   "codemirror_mode": {
    "name": "ipython",
    "version": 3
   },
   "file_extension": ".py",
   "mimetype": "text/x-python",
   "name": "python",
   "nbconvert_exporter": "python",
   "pygments_lexer": "ipython3",
   "version": "3.11.0"
  }
 },
 "nbformat": 4,
 "nbformat_minor": 5
}
