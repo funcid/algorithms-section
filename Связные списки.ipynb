{
 "cells": [
  {
   "cell_type": "markdown",
   "id": "4e173458-4985-47d5-b610-3f4ab72a3c49",
   "metadata": {},
   "source": [
    "# Связные списки"
   ]
  },
  {
   "cell_type": "markdown",
   "id": "9189a462-e56c-4b61-9401-fdec62cdc135",
   "metadata": {},
   "source": [
    "Связные списки – это структура данных, состоящая из элементов, называемых узлами, где каждый узел содержит данные и ссылку на следующий узел в последовательности."
   ]
  },
  {
   "cell_type": "markdown",
   "id": "d8696246-91d0-48e4-bad2-a0f214d3c1ea",
   "metadata": {},
   "source": [
    "## Основные понятия\n",
    "\n",
    "1. **Узел** (Node):\n",
    "    Каждый узел состоит из двух частей: данных и ссылки (или указателя) на следующий узел.\n",
    "\n",
    "2. **Голова** (Head):\n",
    "    Первый узел в списке. Через него начинается доступ ко всему списку.\n",
    "\n",
    "3. **Хвост** (Tail):\n",
    "    Последний узел в списке, ссылка на следующий узел у которого равна `null` или `None`."
   ]
  },
  {
   "cell_type": "markdown",
   "id": "c0a45b38-1e01-4de7-9f30-0f9ce22cb419",
   "metadata": {},
   "source": [
    "## Типы Связных Списков\n",
    "\n",
    "1. **Односвязный список** (Singly Linked List):\n",
    "    Каждый узел содержит ссылку только на следующий узел.\n",
    "\n",
    "    ```plaintext\n",
    "        Head -> [Data|Next] -> [Data|Next] -> [Data|Next] -> None\n",
    "    ```\n",
    "\n",
    "2. **Двусвязный список** (Doubly Linked List):\n",
    "    Каждый узел содержит ссылки и на следующий, и на предыдущий узел.\n",
    "\n",
    "    ```plaintext\n",
    "        None <-> [Prev|Data|Next] <-> [Prev|Data|Next] <-> [Prev|Data|Next] <-> None\n",
    "    ```\n",
    "\n",
    "3. **Циклический связный список** (Circular Linked List):\n",
    "    Последний узел ссылается на первый, создавая круг.\n",
    "\n",
    "    ```plaintext\n",
    "        Head -> [Data|Next] -> [Data|Next] -> [Data|Next] -> Head\n",
    "    ```"
   ]
  },
  {
   "cell_type": "markdown",
   "id": "5db473b1-4d3f-4af6-9fcf-7ab316a63e1a",
   "metadata": {},
   "source": [
    "## Операции со Связным Списком\n",
    "\n",
    "1. **Вставка** (Insertion):\n",
    "    - В начало списка.\n",
    "    - В конец списка.\n",
    "    - В середину списка.\n",
    "\n",
    "2. **Удаление** (Deletion):\n",
    "    - Удаление головы.\n",
    "    - Удаление последнего элемента.\n",
    "    - Удаление определенного узла.\n",
    "\n",
    "3. **Поиск** (Search):\n",
    "    - Поиск элемента по значению."
   ]
  },
  {
   "cell_type": "markdown",
   "id": "6b3e1102-ecea-4796-adeb-e826ad32b80e",
   "metadata": {},
   "source": [
    "## Примеры на Python\n",
    "\n",
    "### Односвязный Список"
   ]
  },
  {
   "cell_type": "code",
   "execution_count": 7,
   "id": "191bb1ce-cfd6-40e7-a26d-c0e2c3ea7825",
   "metadata": {},
   "outputs": [
    {
     "data": {
      "image/png": "[encoded data removed]",
      "text/plain": [
       "<Figure size 640x480 with 1 Axes>"
      ]
     },
     "metadata": {},
     "output_type": "display_data"
    }
   ],
   "source": [
    "import networkx as nx\n",
    "import matplotlib.pyplot as plt\n",
    "\n",
    "class Node:\n",
    "    def __init__(self, data):\n",
    "        self.data = data\n",
    "        self.next = None\n",
    "\n",
    "class SinglyLinkedList:\n",
    "    def __init__(self):\n",
    "        self.head = None\n",
    "    \n",
    "    def append(self, data):\n",
    "        new_node = Node(data)\n",
    "        if self.head is None:\n",
    "            self.head = new_node\n",
    "            return\n",
    "        last = self.head\n",
    "        while last.next:\n",
    "            last = last.next\n",
    "        last.next = new_node\n",
    "    \n",
    "    def visualize(self):\n",
    "        G = nx.DiGraph()\n",
    "        pos = {}\n",
    "        labels = {}\n",
    "        current = self.head\n",
    "        index = 0\n",
    "\n",
    "        while current:\n",
    "            G.add_node(index)\n",
    "            pos[index] = (index, 0)\n",
    "            labels[index] = current.data\n",
    "            if current.next:\n",
    "                G.add_edge(index, index + 1)\n",
    "            current = current.next\n",
    "            index += 1\n",
    "\n",
    "        nx.draw(G, pos, labels=labels, with_labels=True, arrows=True, node_size=1500, node_color='skyblue', font_size=10, font_color='black', font_weight='bold', arrowsize=20)\n",
    "        plt.show()\n",
    "\n",
    "# Создаем список и добавляем элементы\n",
    "list = SinglyLinkedList()\n",
    "list.append(1)\n",
    "list.append(2)\n",
    "list.append(3)\n",
    "\n",
    "# Визуализируем список\n",
    "list.visualize()"
   ]
  },
  {
   "cell_type": "markdown",
   "id": "9c87a6ef-f81a-406d-9f6d-19c4ff134f8d",
   "metadata": {},
   "source": [
    "### Двусвязный Список"
   ]
  },
  {
   "cell_type": "code",
   "execution_count": 8,
   "id": "12c6370e-0839-41a0-bd54-e4afdebe7bd0",
   "metadata": {},
   "outputs": [
    {
     "data": {
      "image/png": "[encoded data removed]",
      "text/plain": [
       "<Figure size 1200x300 with 1 Axes>"
      ]
     },
     "metadata": {},
     "output_type": "display_data"
    }
   ],
   "source": [
    "import networkx as nx\n",
    "import matplotlib.pyplot as plt\n",
    "\n",
    "class Node:\n",
    "    def __init__(self, data):\n",
    "        self.data = data\n",
    "        self.next = None\n",
    "        self.prev = None\n",
    "\n",
    "class DoublyLinkedList:\n",
    "    def __init__(self):\n",
    "        self.head = None\n",
    "    \n",
    "    def append(self, data):\n",
    "        new_node = Node(data)\n",
    "        if self.head is None:\n",
    "            self.head = new_node\n",
    "            return\n",
    "        last = self.head\n",
    "        while last.next:\n",
    "            last = last.next\n",
    "        last.next = new_node\n",
    "        new_node.prev = last\n",
    "    \n",
    "    def visualize(self):\n",
    "        G = nx.DiGraph()\n",
    "        pos = {}\n",
    "        labels = {}\n",
    "        current = self.head\n",
    "        index = 0\n",
    "\n",
    "        while current:\n",
    "            G.add_node(index)\n",
    "            pos[index] = (index, 0)\n",
    "            labels[index] = current.data\n",
    "            if current.next:\n",
    "                G.add_edge(index, index + 1)\n",
    "            if current.prev:\n",
    "                G.add_edge(index, index - 1)\n",
    "            current = current.next\n",
    "            index += 1\n",
    "\n",
    "        plt.figure(figsize=(12, 3))  # Подгоняем размер под длинный двусвязный список\n",
    "        nx.draw(G, pos, labels=labels, with_labels=True, arrows=True, node_size=1500, node_color='lightgreen', font_size=12, font_color='black', font_weight='bold', arrowsize=20)\n",
    "        plt.show()\n",
    "\n",
    "# Создаем список и добавляем элементы\n",
    "list = DoublyLinkedList()\n",
    "list.append(1)\n",
    "list.append(2)\n",
    "list.append(3)\n",
    "\n",
    "# Визуализируем список\n",
    "list.visualize()"
   ]
  },
  {
   "cell_type": "markdown",
   "id": "18cf9fc3-cb92-4216-abe5-c927c1e04752",
   "metadata": {},
   "source": [
    "### Задача: LRU Cache (LeetCode #146)\n",
    "\n",
    "#### Условия задачи:\n",
    "Реализовать структуры данных для LRU Cache. Она должна поддерживать две операции: `get` и `put`.\n",
    "- `get(key)`: Возвращает значение (которое всегда является положительным) ключа, если ключ существует в кэше, иначе возвращает -1.\n",
    "- `put(key, value)`: Вставляет элемент в кэш. Если кэш достиг своего предела, он должен выбросить самое давнее неиспользуемое (Least Recently Used) элемент перед вставкой нового элемента.\n",
    "\n",
    "Решение должно выполняться за `O(1)`.\n",
    "\n",
    "### Решение:\n",
    "Мы будем использовать комбинацию двусвязного списка и хэш-таблицы для достижения выполнения операций за `O(1)`.\n",
    "\n",
    "1. Двусвязный список для отслеживания порядка использования элементов.\n",
    "2. Хэш-таблицу для быстрого доступа к элементам по ключу."
   ]
  },
  {
   "cell_type": "code",
   "execution_count": 23,
   "id": "0800a9ce-b238-4a60-be21-126489b55193",
   "metadata": {},
   "outputs": [
    {
     "name": "stdout",
     "output_type": "stream",
     "text": [
      "Вставлен ключ 1, значение 1.\n"
     ]
    },
    {
     "data": {
      "image/png": "[encoded data removed]",
      "text/plain": [
       "<Figure size 1200x150 with 1 Axes>"
      ]
     },
     "metadata": {},
     "output_type": "display_data"
    },
    {
     "name": "stdout",
     "output_type": "stream",
     "text": [
      "Вставлен ключ 2, значение 2.\n"
     ]
    },
    {
     "data": {
      "image/png": "[encoded data removed]",
      "text/plain": [
       "<Figure size 1200x150 with 1 Axes>"
      ]
     },
     "metadata": {},
     "output_type": "display_data"
    },
    {
     "name": "stdout",
     "output_type": "stream",
     "text": [
      "Получен ключ 1, значение 1. Перемещен в начало.\n"
     ]
    },
    {
     "data": {
      "image/png": "[encoded data removed]",
      "text/plain": [
       "<Figure size 1200x150 with 1 Axes>"
      ]
     },
     "metadata": {},
     "output_type": "display_data"
    },
    {
     "name": "stdout",
     "output_type": "stream",
     "text": [
      "Кэш заполнен. Удалится наиболее редко используемый ключ 2, значение 2.\n",
      "Вставлен ключ 3, значение 3.\n"
     ]
    },
    {
     "data": {
      "image/png": "[encoded data removed]",
      "text/plain": [
       "<Figure size 1200x150 with 1 Axes>"
      ]
     },
     "metadata": {},
     "output_type": "display_data"
    },
    {
     "name": "stdout",
     "output_type": "stream",
     "text": [
      "Ключ 2 не найден в кэше.\n"
     ]
    },
    {
     "data": {
      "image/png": "[encoded data removed]",
      "text/plain": [
       "<Figure size 1200x150 with 1 Axes>"
      ]
     },
     "metadata": {},
     "output_type": "display_data"
    },
    {
     "name": "stdout",
     "output_type": "stream",
     "text": [
      "Кэш заполнен. Удалится наиболее редко используемый ключ 1, значение 1.\n",
      "Вставлен ключ 4, значение 4.\n"
     ]
    },
    {
     "data": {
      "image/png": "[encoded data removed]",
      "text/plain": [
       "<Figure size 1200x150 with 1 Axes>"
      ]
     },
     "metadata": {},
     "output_type": "display_data"
    },
    {
     "name": "stdout",
     "output_type": "stream",
     "text": [
      "Ключ 1 не найден в кэше.\n"
     ]
    },
    {
     "data": {
      "image/png": "[encoded data removed]",
      "text/plain": [
       "<Figure size 1200x150 with 1 Axes>"
      ]
     },
     "metadata": {},
     "output_type": "display_data"
    },
    {
     "name": "stdout",
     "output_type": "stream",
     "text": [
      "Получен ключ 3, значение 3. Перемещен в начало.\n"
     ]
    },
    {
     "data": {
      "image/png": "[encoded data removed]",
      "text/plain": [
       "<Figure size 1200x150 with 1 Axes>"
      ]
     },
     "metadata": {},
     "output_type": "display_data"
    },
    {
     "name": "stdout",
     "output_type": "stream",
     "text": [
      "Получен ключ 4, значение 4. Перемещен в начало.\n"
     ]
    },
    {
     "data": {
      "image/png": "[encoded data removed]",
      "text/plain": [
       "<Figure size 1200x150 with 1 Axes>"
      ]
     },
     "metadata": {},
     "output_type": "display_data"
    },
    {
     "data": {
      "text/plain": [
       "4"
      ]
     },
     "execution_count": 23,
     "metadata": {},
     "output_type": "execute_result"
    }
   ],
   "source": [
    "import networkx as nx\n",
    "import matplotlib.pyplot as plt\n",
    "\n",
    "class DLinkedNode:\n",
    "    def __init__(self, key=0, value=0):\n",
    "        self.key = key\n",
    "        self.value = value\n",
    "        self.prev = None\n",
    "        self.next = None\n",
    "\n",
    "class LRUCache:\n",
    "\n",
    "    def _add_node(self, node):\n",
    "        \"\"\"Always add the new node right after head.\"\"\"\n",
    "        node.prev = self.head\n",
    "        node.next = self.head.next\n",
    "\n",
    "        self.head.next.prev = node\n",
    "        self.head.next = node\n",
    "\n",
    "    def _remove_node(self, node):\n",
    "        \"\"\"Remove an existing node from the linked list.\"\"\"\n",
    "        prev = node.prev\n",
    "        new = node.next\n",
    "\n",
    "        prev.next = new\n",
    "        new.prev = prev\n",
    "\n",
    "    def _move_to_head(self, node):\n",
    "        \"\"\"Move certain node in between to the head.\"\"\"\n",
    "        self._remove_node(node)\n",
    "        self._add_node(node)\n",
    "\n",
    "    def _pop_tail(self):\n",
    "        \"\"\"Pop the current tail.\"\"\"\n",
    "        res = self.tail.prev\n",
    "        self._remove_node(res)\n",
    "        return res\n",
    "\n",
    "    def __init__(self, capacity: int):\n",
    "        self.cache = {}\n",
    "        self.capacity = capacity\n",
    "        self.size = 0\n",
    "        self.head, self.tail = DLinkedNode(), DLinkedNode()\n",
    "\n",
    "        self.head.next = self.tail\n",
    "        self.tail.prev = self.head\n",
    "\n",
    "    def get(self, key: int) -> int:\n",
    "        node = self.cache.get(key, None)\n",
    "        if not node:\n",
    "            print(f\"Ключ {key} не найден в кэше.\")\n",
    "            self.visualize()\n",
    "            return -1\n",
    "\n",
    "        self._move_to_head(node)\n",
    "        print(f\"Получен ключ {key}, значение {node.value}. Перемещен в начало.\")\n",
    "        self.visualize()\n",
    "        return node.value\n",
    "\n",
    "    def put(self, key: int, value: int) -> None:\n",
    "        node = self.cache.get(key)\n",
    "\n",
    "        if not node: \n",
    "            newNode = DLinkedNode(key, value)\n",
    "\n",
    "            self.cache[key] = newNode\n",
    "            self._add_node(newNode)\n",
    "\n",
    "            self.size += 1\n",
    "\n",
    "            if self.size > self.capacity:\n",
    "                tail = self._pop_tail()\n",
    "                print(f\"Кэш заполнен. Удалится наиболее редко используемый ключ {tail.key}, значение {tail.value}.\")\n",
    "                del self.cache[tail.key]\n",
    "                self.size -= 1\n",
    "\n",
    "            print(f\"Вставлен ключ {key}, значение {value}.\")\n",
    "        else:\n",
    "            node.value = value\n",
    "            self._move_to_head(node)\n",
    "            print(f\"Обновлен ключ {key}, значение {value}. Перемещен в начало.\")\n",
    "        \n",
    "        self.visualize()\n",
    "\n",
    "    def visualize(self):\n",
    "        G = nx.DiGraph()\n",
    "        pos = {}\n",
    "        labels = {}\n",
    "\n",
    "        current = self.head.next\n",
    "        index = 0\n",
    "        step = 0.5  # Меньший шаг между узлами\n",
    "\n",
    "        while current != self.tail:\n",
    "            G.add_node(index)\n",
    "            pos[index] = (index * step, 0)\n",
    "            labels[index] = f\"Ключ {current.key}\\nЗнач. {current.value}\"\n",
    "            \n",
    "            if current.prev != self.head:\n",
    "                G.add_edge(index - 1, index)\n",
    "            current = current.next\n",
    "            index += 1\n",
    "\n",
    "        plt.figure(figsize=(12, 1.5))\n",
    "        nx.draw(G, pos, labels=labels, with_labels=True, arrows=True, node_size=3500, node_color='lightblue', font_size=10, font_family='sans-serif', font_weight='bold', arrowsize=15)\n",
    "        plt.show()\n",
    "\n",
    "# Пример использования:\n",
    "cache = LRUCache(2)\n",
    "\n",
    "# Операции над кэшем\n",
    "cache.put(1, 1)\n",
    "cache.put(2, 2)\n",
    "cache.get(1)    # Возвращает 1\n",
    "cache.put(3, 3)         # Вытесняет ключ 2\n",
    "cache.get(2)    # Возвращает -1 (не найдено)\n",
    "cache.put(4, 4)         # Вытесняет ключ 1\n",
    "cache.get(1)    # Возвращает -1 (не найдено)\n",
    "cache.get(3)    # Возвращает 3\n",
    "cache.get(4)    # Возвращает 4"
   ]
  },
  {
   "cell_type": "markdown",
   "id": "f7658c03-6193-4b12-8d7d-3c363219a8a5",
   "metadata": {},
   "source": [
    "LRU (Least Recently Used) Cache — это тип алгоритма кэширования, который используется в различных системах и приложениях для повышения производительности и оптимизации использования памяти. Вот несколько примеров, где используется LRU Cache:\n",
    "\n",
    "### 1. Операционные системы:\n",
    "Операционные системы часто используют LRU Cache для управления памятью, особенно для кэширования страниц памяти. Когда количество доступных свободных страниц ограничено, система может использовать LRU Cache для отслеживания, какие страницы были использованы недавно, и высвобождать страницы, использовавшиеся давным-давно.\n",
    "\n",
    "### 2. Веб-браузеры:\n",
    "Веб-браузеры используют LRU Cache для хранения недавно посещенных страниц и ресурсов (картинок, стилей, скриптов). Это позволяет быстрее загружать страницы, если пользователь возвращается к ним, так как данные уже сохранены в кэше.\n",
    "\n",
    "### 3. Базы данных:\n",
    "В системах управления базами данных (DBMS), таких как MySQL или PostgreSQL, используются LRU Cache для кэширования запросов и страниц данных. Это помогает значительно улучшить производительность, так как часто запрашиваемые данные могут быстро извлекаться из кэша вместо чтения с диска.\n",
    "\n",
    "### 4. CDN (Content Delivery Networks):\n",
    "CDN сервисы, такие как Cloudflare или Akamai, используют LRU Cache для кэширования статических ресурсов (таких как изображения, видео, файлы CSS/JS) на граничных серверах. Это снижает нагрузку на основной сервер и ускоряет доставку контента пользователям.\n",
    "\n",
    "### 5. Кэширование файлов:\n",
    "LRU Cache также используется в файловых системах, таких как NFS (Network File System), для кэширования недавно доступных файлов. Это позволяет ускорить доступ к файлам, которые используются часто, уменьшая задержки операций ввода-вывода.\n",
    "\n",
    "### 6. Адаптивные системы:\n",
    "Адаптивные системы, такие как системы рекомендаций, могут использовать LRU Cache для хранения недавних вычислений и рекомендаций. Это помогает системе быстро реагировать на запросы пользователей, повторно используя результаты прошлых вычислений."
   ]
  }
 ],
 "metadata": {
  "kernelspec": {
   "display_name": "Python 3 (ipykernel)",
   "language": "python",
   "name": "python3"
  },
  "language_info": {
   "codemirror_mode": {
    "name": "ipython",
    "version": 3
   },
   "file_extension": ".py",
   "mimetype": "text/x-python",
   "name": "python",
   "nbconvert_exporter": "python",
   "pygments_lexer": "ipython3",
   "version": "3.11.0"
  }
 },
 "nbformat": 4,
 "nbformat_minor": 5
}
