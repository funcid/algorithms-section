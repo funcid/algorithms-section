{
 "cells": [
  {
   "cell_type": "markdown",
   "id": "36a44d6c-fb75-41ad-ba22-796c774930b6",
   "metadata": {},
   "source": [
    "# Деревья"
   ]
  },
  {
   "cell_type": "markdown",
   "id": "57a93165-d7ed-4158-b9b1-d2a07a2c2c08",
   "metadata": {},
   "source": [
    "### Что такое дерево?\n",
    "\n",
    "**Дерево** — это иерархическая структура данных, которая состоит из узлов. Узлы могут содержать значение или данные, а также ссылку на другие узлы (дочерние узлы). Дерево отличается от других структур данных тем, что оно не имеет циклов и может быть связано только одним способом.\n",
    "\n",
    "Вот основные термины, которые важно знать:\n",
    "- **Корень (root)**: Это самый высокий узел в дереве. У корня нет родительских узлов.\n",
    "- **Узел (node)**: Элемент структуры данных.\n",
    "- **Лист (leaf)**: Узел, у которого нет дочерних узлов.\n",
    "- **Родитель (parent)**: Узел, который имеет связь с другим узлом (дочерним).\n",
    "- **Ребенок (child)**: Узел, который является дочерним по отношению к другому узлу (родителю).\n",
    "\n",
    "### Визуализация дерева\n",
    "\n",
    "Давай визуализируем простое бинарное дерево для начала:\n",
    "\n",
    "```\n",
    "        1\n",
    "       / \\\n",
    "      2   3\n",
    "     / \\\n",
    "    4   5\n",
    "```\n",
    "\n",
    "- 1 - корень дерева.\n",
    "- 2 и 3 - дети 1.\n",
    "- 4 и 5 - дети 2, являются листьями."
   ]
  },
  {
   "cell_type": "markdown",
   "id": "74997d14-1cc6-4927-9ea4-b80662fd520d",
   "metadata": {},
   "source": [
    "### Пример задачи на LeetCode: \"Maximum Depth of Binary Tree\"\n",
    "\n",
    "Ниже приведен пример, где нужно найти максимальную глубину бинарного дерева."
   ]
  },
  {
   "cell_type": "code",
   "execution_count": 1,
   "id": "082ac3d1-e219-4837-acb2-c9ff48a990ba",
   "metadata": {},
   "outputs": [
    {
     "name": "stdout",
     "output_type": "stream",
     "text": [
      "Максимальная глубина дерева: 3\n"
     ]
    }
   ],
   "source": [
    "# Определение класса узла дерева\n",
    "class TreeNode:\n",
    "    def __init__(self, val=0, left=None, right=None):\n",
    "        self.val = val\n",
    "        self.left = left\n",
    "        self.right = right\n",
    "\n",
    "def maxDepth(root):\n",
    "    if not root:\n",
    "        return 0\n",
    "    else:\n",
    "        left_depth = maxDepth(root.left)\n",
    "        right_depth = maxDepth(root.right)\n",
    "        return max(left_depth, right_depth) + 1\n",
    "\n",
    "# Пример использования\n",
    "if __name__ == \"__main__\":\n",
    "    # Создание дерева\n",
    "    tree = TreeNode(1)\n",
    "    tree.left = TreeNode(2)\n",
    "    tree.right = TreeNode(3)\n",
    "    tree.left.left = TreeNode(4)\n",
    "    tree.left.right = TreeNode(5)\n",
    "\n",
    "    # Вычисление максимальной глубины\n",
    "    print(\"Максимальная глубина дерева:\", maxDepth(tree))"
   ]
  }
 ],
 "metadata": {
  "kernelspec": {
   "display_name": "Python 3 (ipykernel)",
   "language": "python",
   "name": "python3"
  },
  "language_info": {
   "codemirror_mode": {
    "name": "ipython",
    "version": 3
   },
   "file_extension": ".py",
   "mimetype": "text/x-python",
   "name": "python",
   "nbconvert_exporter": "python",
   "pygments_lexer": "ipython3",
   "version": "3.11.0"
  }
 },
 "nbformat": 4,
 "nbformat_minor": 5
}
