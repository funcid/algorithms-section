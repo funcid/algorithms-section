{
 "cells": [
  {
   "cell_type": "markdown",
   "metadata": {},
   "source": [
    "# Алгоритм Quick Select"
   ]
  },
  {
   "cell_type": "markdown",
   "metadata": {
    "editable": true,
    "slideshow": {
     "slide_type": ""
    },
    "tags": []
   },
   "source": [
    "Алгоритм Quick Select - алгоритм, решающий задачу о нахождении N-ного наименьшего/наибольшего числа в неотсортированном массиве.\n",
    "\n",
    "Самым простым способом решения данной задачи является сортировка и последующее извлечение числа с заданным индексом из масссива. \n",
    "Время работы такого алгоритма составляет O(n * log n)\n",
    "\n",
    "В свою очередь, время работы Quick Select в худшем случае составляет O(n^2), а в лучшем - O(n).\n",
    "\n",
    "Quick Select применяется для решения следующих задач:\n",
    "1) Нахождение медианы статистических данных\n",
    "2) Нахождение k-того процентиля\n",
    "3) Отбор значимых признаков для машинного обучения\n",
    "4) Вычисление метрик (составление рейтингов игроков)\n",
    "\n",
    "Алгоритм Quick Select состоит из нескольких шагов (рассматривается поиск k-того большего элемента, для наглядности индексирование элементов начинается с 1):\n",
    "1) Выбираем \"элемент-разделитель\" (aka <code>pivot</code>, aka опорный элемент, обычно последний элемент массива);\n",
    "2) Переставляем элементы массива так, чтобы все элементы, большие разделителя, оказались слева от него, а меньшие - справа; (мысленно разделяем массив на два подмассива)\n",
    "3) Если \"разделитель\" оказался на <code>k</code>-той позиции - выводим данный элемент;\n",
    "4) Если \"разделитель\" оказался на месте < <code>k</code>, тогда повторяем вышеописанные процедуры для подмассива элементов справа от \"разделителя\", уменьшив на <code>k</code> его позицию. (Например мы нашли 2 больший элемент, а нам нужен 5 - тогда ищем начиная с третьего элемента при <code>k</code>=3)\n",
    "5) Если \"разделитель\" оказался на месте > <code>k</code>, тогда ищем в подмассиве элементов слева от него. (Например мы нашли 7 наибольший, а искали 5. Тогда ищем до 7 элемента с <code>k</code>=5)\n",
    "\n",
    "Quick Select имеет общую с алгоритмом Quick Sort функцию <code>partition</code>, которая передвигает элементы относительно <code>pivot</code>. Логично, ведь автором этих двух алгоритмов является один и тот же человек, а в сборниках алгоритмов их номера зачастую отличаются лишь на единицу. Для начала рассмотрим работу функции <code>partition</code>."
   ]
  },
  {
   "cell_type": "markdown",
   "metadata": {
    "editable": true,
    "slideshow": {
     "slide_type": ""
    },
    "tags": []
   },
   "source": [
    "## Partition-функция"
   ]
  },
  {
   "cell_type": "markdown",
   "metadata": {
    "editable": true,
    "slideshow": {
     "slide_type": ""
    },
    "tags": []
   },
   "source": [
    "Данная функция несёт в себе интересный смысл: она переставляет все элементы так, чтобы элемент <code>pivot</code> оказался на месте, которое бы он занял в полностью отсортированном массиве.\n",
    "\n",
    "На вход данная функция принимает три аргумента: \n",
    "1) <code>arr</code> - исходный массив;\n",
    "2) <code>b</code> - начало подмассива;\n",
    "3) <code>e</code> - конец подмассива;\n",
    "   \n",
    "Вкратце, Partition-функция выполняет обход подмассива исходного массива в заданном промежутке и перестанавливает местами элементы подмассива так, чтобы по правую сторону от <code>pivot</code> оказались элементы меньшие, чем сам <code>pivot</code>, а слева - большие. При этом между собой элементы не отсортированы по возрастанию или убыванию.<br>\n",
    "Например в результате работы данного алгоритма из [15, 10, 4, 3, 20, **7**] получится [15, 10, 20, **7**, 4, 3].\n",
    "\n",
    "Далее будут использоваться следующие обозначения:<br>\n",
    "<code>b</code> - начало подмассива <br>\n",
    "<code>e</code> - конец подмассива <br>\n",
    "<code>i</code> - индекс потенциального элемента для перестановки (его смысл: элемент продшествующий данному **точно** большe pivot)<br>\n",
    "<code>j</code> - индекс текущего элемента при обходе подмассива<br>\n",
    "\n",
    "1) Назначаем переменной <code>pivot</code> значение последнего элемента подмассива, а переменной <code>i</code> назначаем индекс первого элемента подмассива\n",
    "2) Проходим по каждому элементу подмассива\n",
    "3) Если данный элемент больше или равен <code>pivot</code>, то меняем местами этот элемент с <code>i</code>-тым элементом. Затем увеличиваем индекс <code>i</code>.\n",
    "4) Пройдя все элементы подмассива меняем местами <code>pivot</code> и <code>i</code>-тый элемент"
   ]
  },
  {
   "cell_type": "markdown",
   "metadata": {
    "jp-MarkdownHeadingCollapsed": true
   },
   "source": [
    "### Код функции"
   ]
  },
  {
   "cell_type": "code",
   "execution_count": 64,
   "metadata": {},
   "outputs": [],
   "source": [
    "# considers the last element (e) as pivot  \n",
    "# and moves all smaller elements to rigth of  \n",
    "# it and greater elements to left \n",
    "def partition(arr, b, e): \n",
    "    pivot = arr[e] \n",
    "    i = b \n",
    "    for j in range(b, e): \n",
    "        if arr[j] >= pivot: \n",
    "            arr[i], arr[j] = arr[j], arr[i] \n",
    "            i += 1\n",
    "              \n",
    "    arr[i], arr[e] = arr[e], arr[i] \n",
    "    return i "
   ]
  },
  {
   "cell_type": "markdown",
   "metadata": {
    "editable": true,
    "slideshow": {
     "slide_type": ""
    },
    "tags": []
   },
   "source": [
    "## Реализация алгоритма Quick Select"
   ]
  },
  {
   "cell_type": "markdown",
   "metadata": {},
   "source": [
    "### Код алгоритма Quick Select"
   ]
  },
  {
   "cell_type": "code",
   "execution_count": 71,
   "metadata": {
    "editable": true,
    "slideshow": {
     "slide_type": ""
    },
    "tags": []
   },
   "outputs": [],
   "source": [
    "# arr - array\n",
    "# b - first element's index in observated massive (begin)\n",
    "# e - last element's index in observated massive (end)\n",
    "# k - number of k-th largest element\n",
    "def quickSelect(arr, b, e, k): \n",
    "    # if k is smaller than number of \n",
    "    # elements in array \n",
    "    if (k > 0 and k <= e - b + 1): \n",
    "  \n",
    "        # Partition the array around last \n",
    "        # element and get position of pivot \n",
    "        # element in sorted array \n",
    "        index = partition(arr, b, e) \n",
    "  \n",
    "        # if position is same as k \n",
    "        if (index - b == k - 1): \n",
    "            return arr[index] \n",
    "  \n",
    "        # If position is more, recur  \n",
    "        # for left subarray  \n",
    "        if (index - b > k - 1): \n",
    "            return quickSelect(arr, b, index - 1, k) \n",
    "  \n",
    "        # Else recur for right subarray  \n",
    "        return quickSelect(arr, index + 1, e,  \n",
    "                            k - index + b - 1) \n",
    "    print(\"Index out of bound\") "
   ]
  },
  {
   "cell_type": "markdown",
   "metadata": {
    "editable": true,
    "slideshow": {
     "slide_type": ""
    },
    "tags": []
   },
   "source": [
    "## Решение прикладной задачи"
   ]
  },
  {
   "cell_type": "markdown",
   "metadata": {},
   "source": [
    "Дан массив со значениями почасовой зарплаты 7-ми сотрудников. Найти вторую по величине зарплату."
   ]
  },
  {
   "cell_type": "code",
   "execution_count": 72,
   "metadata": {
    "editable": true,
    "slideshow": {
     "slide_type": ""
    },
    "tags": []
   },
   "outputs": [
    {
     "name": "stdout",
     "output_type": "stream",
     "text": [
      "Изначальный массив: [200, 300, 500, 100, 10, 400, 200]\n",
      "Отсортированный массив: [10, 100, 200, 200, 300, 400, 500]\n",
      "\n",
      "Вторая по величине зарплата: 400\n"
     ]
    }
   ],
   "source": [
    "arr = [200, 300, 500, 100, 10, 400, 200]\n",
    "n = len(arr) - 1 \n",
    "k = 2\n",
    "\n",
    "print (\"Изначальный массив:\", arr)\n",
    "print(\"Отсортированный массив:\", sorted(arr), end='\\n\\n') #Для наглядности\n",
    "ans = quickSelect(arr, 0, n, k)\n",
    "print(f\"Вторая по величине зарплата:\", ans) \n"
   ]
  }
 ],
 "metadata": {
  "kernelspec": {
   "display_name": "Python 3 (ipykernel)",
   "language": "python",
   "name": "python3"
  },
  "language_info": {
   "codemirror_mode": {
    "name": "ipython",
    "version": 3
   },
   "file_extension": ".py",
   "mimetype": "text/x-python",
   "name": "python",
   "nbconvert_exporter": "python",
   "pygments_lexer": "ipython3",
   "version": "3.11.0"
  },
  "toc": {
   "base_numbering": 0
  }
 },
 "nbformat": 4,
 "nbformat_minor": 4
}
