{
 "cells": [
  {
   "cell_type": "markdown",
   "id": "fa302c65-be53-44c1-b882-2f8747bedaa6",
   "metadata": {},
   "source": [
    "# DFS & BFS"
   ]
  },
  {
   "cell_type": "markdown",
   "id": "a2a9ad9e-860b-46d3-92c9-8b9e4d0a6dd9",
   "metadata": {},
   "source": [
    "### Поиск в ширину (BFS)\n",
    "\n",
    "**Вход:** граф $G = (V, E)$ и вершина $S \\in V$ </br>\n",
    "**Постусловие:** вершина достижима из $s$ тогда и только тогда, когда она помечена как \"разведанная\"."
   ]
  },
  {
   "cell_type": "markdown",
   "id": "3eb4c630-c8c9-4094-9864-01e48775d418",
   "metadata": {},
   "source": [
    "Поиск работает по слоям, сначала первый слой связанных вершин, затем второй и так далее."
   ]
  },
  {
   "cell_type": "markdown",
   "id": "287f6e3c-65b7-4fcb-9e09-cff23c51271c",
   "metadata": {},
   "source": [
    "Алгоритм полезен чтобы находить расстояния к каждой вершине.\n",
    "Его можно использовать чтобы опрелять доступность некоторых узлов из вершины.\n",
    "Сложность составляет $O(n * m)$, где $n$ - кол. вершин, а $m$ - кол. ребер."
   ]
  },
  {
   "cell_type": "code",
   "execution_count": 1,
   "id": "f39df5b2-9b12-4d93-80bb-c2f279fbeb4b",
   "metadata": {},
   "outputs": [
    {
     "data": {
      "text/plain": [
       "1"
      ]
     },
     "execution_count": 1,
     "metadata": {},
     "output_type": "execute_result"
    }
   ],
   "source": [
    "# двунаправленный граф, ключ - вершина, значение - другие вершины, соедененные ребрами с этой\n",
    "graph = Dict(\n",
    "    1 => [2, 3], \n",
    "    2 => [1, 4], \n",
    "    3 => [1], \n",
    "    4 => [2, 5], \n",
    "    5 => [4]\n",
    ")\n",
    "\n",
    "start_vertex = 1"
   ]
  },
  {
   "cell_type": "code",
   "execution_count": 2,
   "id": "736ef229-b0c2-4274-bd3c-10c5c2a87ec5",
   "metadata": {},
   "outputs": [
    {
     "data": {
      "text/plain": [
       "bfs (generic function with 1 method)"
      ]
     },
     "execution_count": 2,
     "metadata": {},
     "output_type": "execute_result"
    }
   ],
   "source": [
    "function bfs(vertex)\n",
    "    visited = Set()\n",
    "    queue = [vertex]\n",
    "\n",
    "    while !isempty(queue)\n",
    "        current = popfirst!(queue)\n",
    "        \n",
    "        if current ∈ visited\n",
    "            continue  # Пропускаем уже посещенные вершины\n",
    "        end\n",
    "        \n",
    "        push!(visited, current)\n",
    "        \n",
    "        for neighbor ∈ graph[current]\n",
    "            push!(queue, neighbor)\n",
    "        end\n",
    "    end\n",
    "\n",
    "    return visited\n",
    "end"
   ]
  },
  {
   "cell_type": "code",
   "execution_count": 3,
   "id": "379b6f8d-99af-42bd-9e3c-b0cf07330f95",
   "metadata": {},
   "outputs": [
    {
     "name": "stdout",
     "output_type": "stream",
     "text": [
      "Достижимые вершины из 1: Set(Any[5, 4, 2, 3, 1])\n"
     ]
    }
   ],
   "source": [
    "reachable_vertices = bfs(start_vertex)\n",
    "println(\"Достижимые вершины из $start_vertex: $reachable_vertices\")"
   ]
  },
  {
   "cell_type": "markdown",
   "id": "6d1c8e30-61a3-4787-8b19-4987b73fd191",
   "metadata": {},
   "source": [
    "### Поиск в глубину (DFS)\n",
    "\n",
    "**Вход:** граф $G = (V, E)$ и вершина $S \\in V$ </br>\n",
    "**Постусловие:** вершина достижима из $s$ тогда и только тогда, когда она помечена как \"разведанная\"."
   ]
  },
  {
   "cell_type": "code",
   "execution_count": 4,
   "id": "74799285-77e8-46fe-b956-e7a732e93b8b",
   "metadata": {},
   "outputs": [
    {
     "data": {
      "text/plain": [
       "dfs (generic function with 1 method)"
      ]
     },
     "execution_count": 4,
     "metadata": {},
     "output_type": "execute_result"
    }
   ],
   "source": [
    "function dfs(vertex)\n",
    "    visited = Set()\n",
    "    stack = [vertex]\n",
    "\n",
    "    while !isempty(stack)\n",
    "        current = pop!(stack)\n",
    "        \n",
    "        if current ∈ visited\n",
    "            continue  # Пропускаем уже посещенные вершины\n",
    "        end\n",
    "        \n",
    "        push!(visited, current)\n",
    "        \n",
    "        for neighbor ∈ graph[current]\n",
    "            push!(stack, neighbor)\n",
    "        end\n",
    "    end\n",
    "\n",
    "    return visited\n",
    "end"
   ]
  },
  {
   "cell_type": "code",
   "execution_count": 5,
   "id": "dfafaa90-9e89-49a1-aa20-3c815b994acb",
   "metadata": {},
   "outputs": [
    {
     "name": "stdout",
     "output_type": "stream",
     "text": [
      "Достижимые вершины из 1: Set(Any[5, 4, 2, 3, 1])\n"
     ]
    }
   ],
   "source": [
    "reachable_vertices = dfs(start_vertex)\n",
    "println(\"Достижимые вершины из $start_vertex: $reachable_vertices\")"
   ]
  },
  {
   "cell_type": "markdown",
   "id": "08ccf3ad-4a1e-4165-a089-910f157fb39e",
   "metadata": {},
   "source": [
    "Поиск работает в глубь вершин, рабирается в локальной яме и идет наверх пока не пройдет весь граф."
   ]
  },
  {
   "cell_type": "markdown",
   "id": "d55bdf27-0e47-41d5-9570-9e1404b41ee0",
   "metadata": {},
   "source": [
    "Алгоритм полезен для топологического упорядовачивания, например для планирования последовательности выполнения задач.\n",
    "Сложность составляет $O(n * m)$, где $n$ - кол. вершин, а $m$ - кол. ребер."
   ]
  },
  {
   "cell_type": "markdown",
   "id": "79795807-21c5-469d-abf2-d4f3e6fd1c4d",
   "metadata": {},
   "source": [
    "### Сравнение\n",
    "\n",
    "Оба алгоритма работают с одинаковой сложностью $O(n * m)$, они помогают решать разные задачи. Для меня, основное отличие заключается в активной структуре данных для перебора вершин, Queue (FIFO) для BFS и Stack (FILO) для DFS."
   ]
  }
 ],
 "metadata": {
  "kernelspec": {
   "display_name": "Julia 1.10.4",
   "language": "julia",
   "name": "julia-1.10"
  },
  "language_info": {
   "file_extension": ".jl",
   "mimetype": "application/julia",
   "name": "julia",
   "version": "1.10.4"
  }
 },
 "nbformat": 4,
 "nbformat_minor": 5
}
